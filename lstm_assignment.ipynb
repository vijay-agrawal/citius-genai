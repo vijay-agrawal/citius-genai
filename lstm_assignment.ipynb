#LSTM sentiment analysis using the yelp reviews dataset


This code implements a Long Short-Term Memory (LSTM) neural network for sentiment analysis
using the Yelp Review dataset. LSTM networks are particularly effective for text analysis
as they can capture long-term dependencies in sequential data. The Yelp dataset consists
of business reviews labeled as either positive (1) or negative (0), making it ideal for
binary sentiment classification. The dataset contains 560,000 training reviews and 38,000
testing reviews.
#######################
# Step 1: Import Libraries
#######################
import tensorflow as tf
import tensorflow_datasets as tfds
import numpy as np
from tensorflow.keras.preprocessing.text import Tokenizer
from tensorflow.keras.preprocessing.sequence import pad_sequences
import nltk
from nltk.corpus import stopwords
from nltk.stem import WordNetLemmatizer
import re
#######################
# Step 2: Download NLTK Resources
#######################
nltk.download('stopwords')
nltk.download('wordnet')
nltk.download('punkt')
nltk.download('punkt_tab')
#######################
# Step 3: Load Dataset and Create Subset
#######################
# Load dataset from TensorFlow Datasets
dataset, info = tfds.load('yelp_polarity_reviews', with_info=True, as_supervised=True)
train_dataset, test_dataset = dataset['train'], dataset['test']

# Take subset of data
TRAIN_SIZE = 10000
TEST_SIZE = 2000

train_dataset = train_dataset.take(TRAIN_SIZE)
test_dataset = test_dataset.take(TEST_SIZE)
#######################
# Step 4: Initialize Preprocessing Tools
#######################
#######################
# Step 5: Data Preprocessing
#######################
#######################
# Step 6: Convert to NumPy Arrays
#######################
#######################
# Step 7: Tokenization and Padding
#######################
#######################
# Step 8: Build LSTM Model
#######################
#######################
# Step 9: Compile Model
#######################
#######################
# Step 10: Train Model
#######################
#######################
# Step 11: Evaluate Model
#######################
